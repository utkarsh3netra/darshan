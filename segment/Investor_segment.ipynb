{
 "cells": [
  {
   "cell_type": "code",
   "execution_count": 18,
   "id": "c94f2a61-10f3-4aeb-873f-8ec5780d7178",
   "metadata": {},
   "outputs": [
    {
     "ename": "NoSuchElementException",
     "evalue": "Message: no such element: Unable to locate element: {\"method\":\"css selector\",\"selector\":\"button[class='MuiButton-root']\"}\n  (Session info: chrome=119.0.6045.160); For documentation on this error, please visit: https://www.selenium.dev/documentation/webdriver/troubleshooting/errors#no-such-element-exception\nStacktrace:\n\tGetHandleVerifier [0x00007FF6D10682B2+55298]\n\t(No symbol) [0x00007FF6D0FD5E02]\n\t(No symbol) [0x00007FF6D0E905AB]\n\t(No symbol) [0x00007FF6D0ED175C]\n\t(No symbol) [0x00007FF6D0ED18DC]\n\t(No symbol) [0x00007FF6D0F0CBC7]\n\t(No symbol) [0x00007FF6D0EF20EF]\n\t(No symbol) [0x00007FF6D0F0AAA4]\n\t(No symbol) [0x00007FF6D0EF1E83]\n\t(No symbol) [0x00007FF6D0EC670A]\n\t(No symbol) [0x00007FF6D0EC7964]\n\tGetHandleVerifier [0x00007FF6D13E0AAB+3694587]\n\tGetHandleVerifier [0x00007FF6D143728E+4048862]\n\tGetHandleVerifier [0x00007FF6D142F173+4015811]\n\tGetHandleVerifier [0x00007FF6D11047D6+695590]\n\t(No symbol) [0x00007FF6D0FE0CE8]\n\t(No symbol) [0x00007FF6D0FDCF34]\n\t(No symbol) [0x00007FF6D0FDD062]\n\t(No symbol) [0x00007FF6D0FCD3A3]\n\tBaseThreadInitThunk [0x00007FFD34F67614+20]\n\tRtlUserThreadStart [0x00007FFD357626B1+33]\n",
     "output_type": "error",
     "traceback": [
      "\u001b[1;31m---------------------------------------------------------------------------\u001b[0m",
      "\u001b[1;31mNoSuchElementException\u001b[0m                    Traceback (most recent call last)",
      "Cell \u001b[1;32mIn[18], line 56\u001b[0m\n\u001b[0;32m     53\u001b[0m time\u001b[38;5;241m.\u001b[39msleep(\u001b[38;5;241m6\u001b[39m)\n\u001b[0;32m     55\u001b[0m \u001b[38;5;66;03m# Manage Segment\u001b[39;00m\n\u001b[1;32m---> 56\u001b[0m \u001b[43mdriver\u001b[49m\u001b[38;5;241;43m.\u001b[39;49m\u001b[43mfind_element\u001b[49m\u001b[43m(\u001b[49m\u001b[43mBy\u001b[49m\u001b[38;5;241;43m.\u001b[39;49m\u001b[43mCSS_SELECTOR\u001b[49m\u001b[43m,\u001b[49m\u001b[43m \u001b[49m\u001b[38;5;124;43m\"\u001b[39;49m\u001b[38;5;124;43mbutton[class=\u001b[39;49m\u001b[38;5;124;43m'\u001b[39;49m\u001b[38;5;124;43mMuiButton-root\u001b[39;49m\u001b[38;5;124;43m'\u001b[39;49m\u001b[38;5;124;43m]\u001b[39;49m\u001b[38;5;124;43m\"\u001b[39;49m\u001b[43m)\u001b[49m\u001b[38;5;241m.\u001b[39mclick()\n\u001b[0;32m     57\u001b[0m time\u001b[38;5;241m.\u001b[39msleep(\u001b[38;5;241m6\u001b[39m)\n\u001b[0;32m     59\u001b[0m \u001b[38;5;66;03m# Close the browser\u001b[39;00m\n",
      "File \u001b[1;32m~\\AppData\\Local\\Programs\\Python\\Python312\\Lib\\site-packages\\selenium\\webdriver\\remote\\webdriver.py:741\u001b[0m, in \u001b[0;36mWebDriver.find_element\u001b[1;34m(self, by, value)\u001b[0m\n\u001b[0;32m    738\u001b[0m     by \u001b[38;5;241m=\u001b[39m By\u001b[38;5;241m.\u001b[39mCSS_SELECTOR\n\u001b[0;32m    739\u001b[0m     value \u001b[38;5;241m=\u001b[39m \u001b[38;5;124mf\u001b[39m\u001b[38;5;124m'\u001b[39m\u001b[38;5;124m[name=\u001b[39m\u001b[38;5;124m\"\u001b[39m\u001b[38;5;132;01m{\u001b[39;00mvalue\u001b[38;5;132;01m}\u001b[39;00m\u001b[38;5;124m\"\u001b[39m\u001b[38;5;124m]\u001b[39m\u001b[38;5;124m'\u001b[39m\n\u001b[1;32m--> 741\u001b[0m \u001b[38;5;28;01mreturn\u001b[39;00m \u001b[38;5;28;43mself\u001b[39;49m\u001b[38;5;241;43m.\u001b[39;49m\u001b[43mexecute\u001b[49m\u001b[43m(\u001b[49m\u001b[43mCommand\u001b[49m\u001b[38;5;241;43m.\u001b[39;49m\u001b[43mFIND_ELEMENT\u001b[49m\u001b[43m,\u001b[49m\u001b[43m \u001b[49m\u001b[43m{\u001b[49m\u001b[38;5;124;43m\"\u001b[39;49m\u001b[38;5;124;43musing\u001b[39;49m\u001b[38;5;124;43m\"\u001b[39;49m\u001b[43m:\u001b[49m\u001b[43m \u001b[49m\u001b[43mby\u001b[49m\u001b[43m,\u001b[49m\u001b[43m \u001b[49m\u001b[38;5;124;43m\"\u001b[39;49m\u001b[38;5;124;43mvalue\u001b[39;49m\u001b[38;5;124;43m\"\u001b[39;49m\u001b[43m:\u001b[49m\u001b[43m \u001b[49m\u001b[43mvalue\u001b[49m\u001b[43m}\u001b[49m\u001b[43m)\u001b[49m[\u001b[38;5;124m\"\u001b[39m\u001b[38;5;124mvalue\u001b[39m\u001b[38;5;124m\"\u001b[39m]\n",
      "File \u001b[1;32m~\\AppData\\Local\\Programs\\Python\\Python312\\Lib\\site-packages\\selenium\\webdriver\\remote\\webdriver.py:347\u001b[0m, in \u001b[0;36mWebDriver.execute\u001b[1;34m(self, driver_command, params)\u001b[0m\n\u001b[0;32m    345\u001b[0m response \u001b[38;5;241m=\u001b[39m \u001b[38;5;28mself\u001b[39m\u001b[38;5;241m.\u001b[39mcommand_executor\u001b[38;5;241m.\u001b[39mexecute(driver_command, params)\n\u001b[0;32m    346\u001b[0m \u001b[38;5;28;01mif\u001b[39;00m response:\n\u001b[1;32m--> 347\u001b[0m     \u001b[38;5;28;43mself\u001b[39;49m\u001b[38;5;241;43m.\u001b[39;49m\u001b[43merror_handler\u001b[49m\u001b[38;5;241;43m.\u001b[39;49m\u001b[43mcheck_response\u001b[49m\u001b[43m(\u001b[49m\u001b[43mresponse\u001b[49m\u001b[43m)\u001b[49m\n\u001b[0;32m    348\u001b[0m     response[\u001b[38;5;124m\"\u001b[39m\u001b[38;5;124mvalue\u001b[39m\u001b[38;5;124m\"\u001b[39m] \u001b[38;5;241m=\u001b[39m \u001b[38;5;28mself\u001b[39m\u001b[38;5;241m.\u001b[39m_unwrap_value(response\u001b[38;5;241m.\u001b[39mget(\u001b[38;5;124m\"\u001b[39m\u001b[38;5;124mvalue\u001b[39m\u001b[38;5;124m\"\u001b[39m, \u001b[38;5;28;01mNone\u001b[39;00m))\n\u001b[0;32m    349\u001b[0m     \u001b[38;5;28;01mreturn\u001b[39;00m response\n",
      "File \u001b[1;32m~\\AppData\\Local\\Programs\\Python\\Python312\\Lib\\site-packages\\selenium\\webdriver\\remote\\errorhandler.py:229\u001b[0m, in \u001b[0;36mErrorHandler.check_response\u001b[1;34m(self, response)\u001b[0m\n\u001b[0;32m    227\u001b[0m         alert_text \u001b[38;5;241m=\u001b[39m value[\u001b[38;5;124m\"\u001b[39m\u001b[38;5;124malert\u001b[39m\u001b[38;5;124m\"\u001b[39m]\u001b[38;5;241m.\u001b[39mget(\u001b[38;5;124m\"\u001b[39m\u001b[38;5;124mtext\u001b[39m\u001b[38;5;124m\"\u001b[39m)\n\u001b[0;32m    228\u001b[0m     \u001b[38;5;28;01mraise\u001b[39;00m exception_class(message, screen, stacktrace, alert_text)  \u001b[38;5;66;03m# type: ignore[call-arg]  # mypy is not smart enough here\u001b[39;00m\n\u001b[1;32m--> 229\u001b[0m \u001b[38;5;28;01mraise\u001b[39;00m exception_class(message, screen, stacktrace)\n",
      "\u001b[1;31mNoSuchElementException\u001b[0m: Message: no such element: Unable to locate element: {\"method\":\"css selector\",\"selector\":\"button[class='MuiButton-root']\"}\n  (Session info: chrome=119.0.6045.160); For documentation on this error, please visit: https://www.selenium.dev/documentation/webdriver/troubleshooting/errors#no-such-element-exception\nStacktrace:\n\tGetHandleVerifier [0x00007FF6D10682B2+55298]\n\t(No symbol) [0x00007FF6D0FD5E02]\n\t(No symbol) [0x00007FF6D0E905AB]\n\t(No symbol) [0x00007FF6D0ED175C]\n\t(No symbol) [0x00007FF6D0ED18DC]\n\t(No symbol) [0x00007FF6D0F0CBC7]\n\t(No symbol) [0x00007FF6D0EF20EF]\n\t(No symbol) [0x00007FF6D0F0AAA4]\n\t(No symbol) [0x00007FF6D0EF1E83]\n\t(No symbol) [0x00007FF6D0EC670A]\n\t(No symbol) [0x00007FF6D0EC7964]\n\tGetHandleVerifier [0x00007FF6D13E0AAB+3694587]\n\tGetHandleVerifier [0x00007FF6D143728E+4048862]\n\tGetHandleVerifier [0x00007FF6D142F173+4015811]\n\tGetHandleVerifier [0x00007FF6D11047D6+695590]\n\t(No symbol) [0x00007FF6D0FE0CE8]\n\t(No symbol) [0x00007FF6D0FDCF34]\n\t(No symbol) [0x00007FF6D0FDD062]\n\t(No symbol) [0x00007FF6D0FCD3A3]\n\tBaseThreadInitThunk [0x00007FFD34F67614+20]\n\tRtlUserThreadStart [0x00007FFD357626B1+33]\n"
     ]
    }
   ],
   "source": [
    "import time\n",
    "from selenium import webdriver\n",
    "from selenium.webdriver.common.by import By\n",
    "\n",
    "# Create a webdriver instance\n",
    "driver = webdriver.Chrome()\n",
    "\n",
    "# Open the website\n",
    "driver.get(\"https://dev.synergi.ai/\")\n",
    "\n",
    "# login credentials\n",
    "username = \"ketulpadariya79@gmail.com\"\n",
    "password = \"Ketul@123\"\n",
    "\n",
    "# Enter username\n",
    "driver.find_element(\"id\", \"email\").send_keys(username)\n",
    "\n",
    "# Enter password\n",
    "driver.find_element(\"id\", \"password\").send_keys(password)\n",
    "\n",
    "# Click on the login button\n",
    "driver.find_element(By.CSS_SELECTOR, \".MuiButton-containedSecondary\").click()\n",
    "time.sleep(6)\n",
    "\n",
    "# Navigate to a Segment section\n",
    "driver.find_element(By.XPATH, \"//span[normalize-space()='Segments']\").click()\n",
    "time.sleep(6)\n",
    "\n",
    "# Create Segment\n",
    "driver.find_element(By.XPATH, \"//button[normalize-space()='create Segment'] \").click()\n",
    "time.sleep(6)\n",
    "\n",
    "\n",
    "# Create Investor Ian\n",
    "driver.find_element(By.XPATH, \"//div[2]/div/button\").click()\n",
    "time.sleep(6)\n",
    "\n",
    "# Select Edit\n",
    "driver.find_element(By.XPATH, \"//button[normalize-space()='Edit']\").click()\n",
    "time.sleep(4)\n",
    "\n",
    "# Enter segment name\n",
    "segment_name = \" 1\"\n",
    "driver.find_element(\"id\", \"segmentName\").send_keys(segment_name)\n",
    "time.sleep(2)\n",
    "\n",
    "# Review\n",
    "driver.find_element(By.XPATH, \"//button[normalize-space()='Review']\").click()\n",
    "time.sleep(6)\n",
    "\n",
    "# Save Segment\n",
    "driver.find_element(By.XPATH, \"//button[normalize-space()='Save Segment']\").click()\n",
    "time.sleep(6)\n",
    "\n",
    "# Manage Segment\n",
    "driver.find_element(By.CSS_SELECTOR, \"button[class='MuiButton-root']\").click()\n",
    "time.sleep(6)\n",
    "\n",
    "# Close the browser\n",
    "driver.quit()"
   ]
  }
 ],
 "metadata": {
  "kernelspec": {
   "display_name": "Python 3 (ipykernel)",
   "language": "python",
   "name": "python3"
  },
  "language_info": {
   "codemirror_mode": {
    "name": "ipython",
    "version": 3
   },
   "file_extension": ".py",
   "mimetype": "text/x-python",
   "name": "python",
   "nbconvert_exporter": "python",
   "pygments_lexer": "ipython3",
   "version": "3.12.0"
  }
 },
 "nbformat": 4,
 "nbformat_minor": 5
}
