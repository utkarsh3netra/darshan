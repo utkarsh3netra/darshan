{
 "cells": [
  {
   "cell_type": "code",
   "execution_count": 40,
   "id": "d2892b0c-1297-4968-a203-84f22645b5f4",
   "metadata": {},
   "outputs": [],
   "source": [
    "import time\n",
    "import random\n",
    "from selenium import webdriver\n",
    "from selenium.webdriver.common.by import By\n",
    "from selenium.webdriver.support.ui import WebDriverWait\n",
    "from selenium.webdriver.support import expected_conditions as EC\n",
    "\n",
    "def login(driver, username, password):\n",
    "    # Open the website\n",
    "    driver.get(\"https://dev.synergi.ai/\")\n",
    "    driver.maximize_window()\n",
    "\n",
    "    # Enter username\n",
    "    driver.find_element(\"id\", \"email\").send_keys(username)\n",
    "\n",
    "    # Enter password\n",
    "    driver.find_element(\"id\", \"password\").send_keys(password)\n",
    "\n",
    "    # Click on the login button\n",
    "    driver.find_element(By.CSS_SELECTOR, \".MuiButton-containedSecondary\").click()\n",
    "\n",
    "    # Wait for successful login\n",
    "    WebDriverWait(driver, 20).until(EC.url_changes)\n",
    "    time.sleep(8)\n",
    "\n",
    "\n",
    "def navigate_to_offer(driver):\n",
    "    try:\n",
    "        # Navigate to a offer section\n",
    "        driver.find_element(By.XPATH, \"//span[normalize-space()='Offers']\").click()\n",
    "        time.sleep(2)\n",
    "    except:\n",
    "        # Navigate to a offer section\n",
    "        driver.find_element(By.XPATH, \"//span[normalize-space()='create offers']\").click()\n",
    "        time.sleep(2)\n",
    "\n",
    "def create_offer(driver):\n",
    "    # Wait for load Create offer\n",
    "    WebDriverWait(driver, 20).until(EC.presence_of_element_located((By.CSS_SELECTOR, \"button[type='submit']\")))\n",
    "    \n",
    "    \n",
    "    # Create offer\n",
    "    driver.find_element(By.CSS_SELECTOR, \"button[type='submit']\").click()\n",
    "    time.sleep(2)\n",
    "\n",
    "def edit_offer(driver, add_postfix:bool = True)->None:\n",
    "\n",
    "    # add extra name to offer_name so we will not get error of alredy exist\n",
    "    offer_name = f\" {get_random_id()}\" \n",
    "\n",
    "    \n",
    "    \n",
    "    # Wait for load Select Edit\n",
    "    WebDriverWait(driver, 20).until(EC.presence_of_element_located((By.CSS_SELECTOR, \".MuiButton-outlinedSizeMedium.css-cz5i37\")))\n",
    "    \n",
    "    # Select Edit\n",
    "    driver.find_element(By.CSS_SELECTOR, \".MuiButton-outlinedSizeMedium.css-cz5i37\").click()\n",
    "\n",
    "    # Enter offer name\n",
    "    driver.find_element(\"id\", \"offerName\").send_keys(offer_name)\n",
    "\n",
    "    # Review\n",
    "    driver.find_element(By.CSS_SELECTOR, \".MuiButton-containedSizeMedium.css-15fbcyu\").click()\n",
    "\n",
    "    # Wait for load Save offer\n",
    "    WebDriverWait(driver, 20).until(EC.element_to_be_clickable((By.CSS_SELECTOR, \".MuiButton-containedSizeMedium.css-1hw9j7s\")))\n",
    "    \n",
    "    # Save offer\n",
    "    driver.find_element(By.CSS_SELECTOR, \".MuiButton-containedSizeMedium.css-1hw9j7s\").click()\n",
    "    time.sleep(4)\n",
    "\n",
    "def general(driver):\n",
    "    create_offer(driver)\n",
    "\n",
    "\n",
    "    # wait for load Create General\n",
    "    WebDriverWait(driver, 20).until(EC.presence_of_element_located((By.CSS_SELECTOR, \"div:nth-child(4) button:nth-child(1)\")))\n",
    "        \n",
    "    # Create General\n",
    "    driver.find_element(By.CSS_SELECTOR, \"div:nth-child(4) button:nth-child(1)\").click()\n",
    "\n",
    "    edit_offer(driver)\n",
    "\n",
    "\n",
    "def fha_pi_savings(driver):\n",
    "    create_offer(driver)\n",
    "\n",
    "\n",
    "    # wait for load Create FHA PI Savings\n",
    "    WebDriverWait(driver, 20).until(EC.presence_of_element_located((By.CSS_SELECTOR, \":nth-child(2) >.MuiCardActions-root.MuiCardActions-spacing.css-3zukih button\")))\n",
    "        \n",
    "    # Create FHA PI Savings\n",
    "    driver.find_element(By.CSS_SELECTOR, \":nth-child(2) >.MuiCardActions-root.MuiCardActions-spacing.css-3zukih button\").click()\n",
    "\n",
    "    edit_offer(driver)\n",
    "\n",
    "\n",
    "def rate_term(driver):\n",
    "    create_offer(driver)\n",
    "\n",
    "\n",
    "    # wait for load Create Rate Term PI Benefit\n",
    "    WebDriverWait(driver, 20).until(EC.presence_of_element_located((By.CSS_SELECTOR, \" :nth-child(3) > :nth-child(4) :nth-child(1)\")))\n",
    "        \n",
    "    # Create Rate Term PI Benefit\n",
    "    driver.find_element(By.CSS_SELECTOR, \" :nth-child(3) > :nth-child(4) :nth-child(1)\").click()\n",
    "\n",
    "    edit_offer(driver)\n",
    "\n",
    "\n",
    "def cashout(driver):\n",
    "    create_offer(driver)\n",
    "\n",
    "    #slid offer\n",
    "    driver.find_element(By.XPATH, \"//button[2]\").click()\n",
    "    time.sleep(2)\n",
    "\n",
    "    # wait for load Create first_time_freddy\n",
    "    WebDriverWait(driver, 20).until(EC.presence_of_element_located((By.XPATH, \"//div[4]//div[4]//button[1]\")))\n",
    "\n",
    "    # Create first_time_freddy\n",
    "    driver.find_element(By.XPATH, \"//div[4]//div[4]//button[1]\").click()\n",
    "\n",
    "    edit_offer(driver)\n",
    "\n",
    "\n",
    "def purchase_fha(driver):\n",
    "    create_offer(driver)\n",
    "\n",
    "    # Enter offer name for editing\n",
    "    \n",
    "    #slid offer\n",
    "    driver.find_element(By.XPATH, \"//button[2]\").click()\n",
    "    time.sleep(2)\n",
    "\n",
    "    # wait for load Create Purchase FHA\n",
    "    WebDriverWait(driver, 20).until(EC.presence_of_element_located((By.CSS_SELECTOR, \"div:nth-child(5) div:nth-child(4) button:nth-child(1)\")))\n",
    "        \n",
    "    # Create Purchase FHA\n",
    "    driver.find_element(By.CSS_SELECTOR, \"div:nth-child(5) div:nth-child(4) button:nth-child(1)\").click()\n",
    "\n",
    "    edit_offer(driver)\n",
    "\n",
    "\n",
    "def offer():\n",
    "    # try:\n",
    "    # Create a webdriver instance\n",
    "    driver = webdriver.Chrome()\n",
    "\n",
    "    # login credentials\n",
    "    username = \"ketulpadariya79@gmail.com\"\n",
    "    password = \"Ketul@123\"\n",
    "\n",
    "    login(driver, username, password)\n",
    "    navigate_to_offer(driver)\n",
    "    general(driver)\n",
    "    time.sleep(10)\n",
    "    fha_pi_savings(driver)\n",
    "    time.sleep(10)\n",
    "    rate_term(driver)\n",
    "    time.sleep(10)\n",
    "    cashout(driver)\n",
    "    time.sleep(10)\n",
    "    purchase_fha(driver)\n",
    "\n",
    "    # except Exception as e:\n",
    "    #traceback.format_exc()\n",
    "    #     print(e)\n",
    "\n",
    "    # finally:\n",
    "    #     driver.quit()\n",
    "        \n",
    "\n"
   ]
  },
  {
   "cell_type": "code",
   "execution_count": null,
   "id": "863596ce-7a22-4cfc-9244-6113b645d5c8",
   "metadata": {},
   "outputs": [],
   "source": [
    "# Create a webdriver instance\n",
    "driver = webdriver.Chrome()\n",
    "\n",
    "# login credentials\n",
    "username = \"ketulpadariya79@gmail.com\"\n",
    "password = \"Ketul@123\"\n",
    "\n",
    "login(driver, username, password)\n",
    "navigate_to_offer(driver)\n",
    "general(driver)\n",
    "time.sleep(10)\n",
    "fha_pi_savings(driver)\n",
    "time.sleep(10)\n",
    "rate_term(driver)\n",
    "time.sleep(10)\n",
    "cashout(driver)\n",
    "time.sleep(10)\n",
    "purchase_fha(driver)\n"
   ]
  },
  {
   "cell_type": "code",
   "execution_count": 43,
   "id": "2ec8c32e-d88d-4544-aa0d-1f4548c6db34",
   "metadata": {},
   "outputs": [
    {
     "ename": "NoSuchWindowException",
     "evalue": "Message: no such window: target window already closed\nfrom unknown error: web view not found\n  (Session info: chrome=119.0.6045.200)\nStacktrace:\n\tGetHandleVerifier [0x00007FF75C8382B2+55298]\n\t(No symbol) [0x00007FF75C7A5E02]\n\t(No symbol) [0x00007FF75C6605AB]\n\t(No symbol) [0x00007FF75C640038]\n\t(No symbol) [0x00007FF75C6C6BC7]\n\t(No symbol) [0x00007FF75C6DA15F]\n\t(No symbol) [0x00007FF75C6C1E83]\n\t(No symbol) [0x00007FF75C69670A]\n\t(No symbol) [0x00007FF75C697964]\n\tGetHandleVerifier [0x00007FF75CBB0AAB+3694587]\n\tGetHandleVerifier [0x00007FF75CC0728E+4048862]\n\tGetHandleVerifier [0x00007FF75CBFF173+4015811]\n\tGetHandleVerifier [0x00007FF75C8D47D6+695590]\n\t(No symbol) [0x00007FF75C7B0CE8]\n\t(No symbol) [0x00007FF75C7ACF34]\n\t(No symbol) [0x00007FF75C7AD062]\n\t(No symbol) [0x00007FF75C79D3A3]\n\tBaseThreadInitThunk [0x00007FFCE5997344+20]\n\tRtlUserThreadStart [0x00007FFCE68C26B1+33]\n",
     "output_type": "error",
     "traceback": [
      "\u001b[1;31m---------------------------------------------------------------------------\u001b[0m",
      "\u001b[1;31mNoSuchWindowException\u001b[0m                     Traceback (most recent call last)",
      "Cell \u001b[1;32mIn[40], line 30\u001b[0m, in \u001b[0;36mnavigate_to_offer\u001b[1;34m(driver)\u001b[0m\n\u001b[0;32m     28\u001b[0m \u001b[38;5;28;01mtry\u001b[39;00m:\n\u001b[0;32m     29\u001b[0m     \u001b[38;5;66;03m# Navigate to a offer section\u001b[39;00m\n\u001b[1;32m---> 30\u001b[0m     \u001b[43mdriver\u001b[49m\u001b[38;5;241;43m.\u001b[39;49m\u001b[43mfind_element\u001b[49m\u001b[43m(\u001b[49m\u001b[43mBy\u001b[49m\u001b[38;5;241;43m.\u001b[39;49m\u001b[43mXPATH\u001b[49m\u001b[43m,\u001b[49m\u001b[43m \u001b[49m\u001b[38;5;124;43m\"\u001b[39;49m\u001b[38;5;124;43m//span[normalize-space()=\u001b[39;49m\u001b[38;5;124;43m'\u001b[39;49m\u001b[38;5;124;43mOffers\u001b[39;49m\u001b[38;5;124;43m'\u001b[39;49m\u001b[38;5;124;43m]\u001b[39;49m\u001b[38;5;124;43m\"\u001b[39;49m\u001b[43m)\u001b[49m\u001b[38;5;241m.\u001b[39mclick()\n\u001b[0;32m     31\u001b[0m     time\u001b[38;5;241m.\u001b[39msleep(\u001b[38;5;241m2\u001b[39m)\n",
      "File \u001b[1;32mc:\\users\\lenovo\\pycharmprojects\\synergi-backend-api\\env\\lib\\site-packages\\selenium\\webdriver\\remote\\webdriver.py:741\u001b[0m, in \u001b[0;36mWebDriver.find_element\u001b[1;34m(self, by, value)\u001b[0m\n\u001b[0;32m    739\u001b[0m     value \u001b[38;5;241m=\u001b[39m \u001b[38;5;124mf\u001b[39m\u001b[38;5;124m'\u001b[39m\u001b[38;5;124m[name=\u001b[39m\u001b[38;5;124m\"\u001b[39m\u001b[38;5;132;01m{\u001b[39;00mvalue\u001b[38;5;132;01m}\u001b[39;00m\u001b[38;5;124m\"\u001b[39m\u001b[38;5;124m]\u001b[39m\u001b[38;5;124m'\u001b[39m\n\u001b[1;32m--> 741\u001b[0m \u001b[38;5;28;01mreturn\u001b[39;00m \u001b[38;5;28;43mself\u001b[39;49m\u001b[38;5;241;43m.\u001b[39;49m\u001b[43mexecute\u001b[49m\u001b[43m(\u001b[49m\u001b[43mCommand\u001b[49m\u001b[38;5;241;43m.\u001b[39;49m\u001b[43mFIND_ELEMENT\u001b[49m\u001b[43m,\u001b[49m\u001b[43m \u001b[49m\u001b[43m{\u001b[49m\u001b[38;5;124;43m\"\u001b[39;49m\u001b[38;5;124;43musing\u001b[39;49m\u001b[38;5;124;43m\"\u001b[39;49m\u001b[43m:\u001b[49m\u001b[43m \u001b[49m\u001b[43mby\u001b[49m\u001b[43m,\u001b[49m\u001b[43m \u001b[49m\u001b[38;5;124;43m\"\u001b[39;49m\u001b[38;5;124;43mvalue\u001b[39;49m\u001b[38;5;124;43m\"\u001b[39;49m\u001b[43m:\u001b[49m\u001b[43m \u001b[49m\u001b[43mvalue\u001b[49m\u001b[43m}\u001b[49m\u001b[43m)\u001b[49m[\u001b[38;5;124m\"\u001b[39m\u001b[38;5;124mvalue\u001b[39m\u001b[38;5;124m\"\u001b[39m]\n",
      "File \u001b[1;32mc:\\users\\lenovo\\pycharmprojects\\synergi-backend-api\\env\\lib\\site-packages\\selenium\\webdriver\\remote\\webdriver.py:347\u001b[0m, in \u001b[0;36mWebDriver.execute\u001b[1;34m(self, driver_command, params)\u001b[0m\n\u001b[0;32m    346\u001b[0m \u001b[38;5;28;01mif\u001b[39;00m response:\n\u001b[1;32m--> 347\u001b[0m     \u001b[38;5;28;43mself\u001b[39;49m\u001b[38;5;241;43m.\u001b[39;49m\u001b[43merror_handler\u001b[49m\u001b[38;5;241;43m.\u001b[39;49m\u001b[43mcheck_response\u001b[49m\u001b[43m(\u001b[49m\u001b[43mresponse\u001b[49m\u001b[43m)\u001b[49m\n\u001b[0;32m    348\u001b[0m     response[\u001b[38;5;124m\"\u001b[39m\u001b[38;5;124mvalue\u001b[39m\u001b[38;5;124m\"\u001b[39m] \u001b[38;5;241m=\u001b[39m \u001b[38;5;28mself\u001b[39m\u001b[38;5;241m.\u001b[39m_unwrap_value(response\u001b[38;5;241m.\u001b[39mget(\u001b[38;5;124m\"\u001b[39m\u001b[38;5;124mvalue\u001b[39m\u001b[38;5;124m\"\u001b[39m, \u001b[38;5;28;01mNone\u001b[39;00m))\n",
      "File \u001b[1;32mc:\\users\\lenovo\\pycharmprojects\\synergi-backend-api\\env\\lib\\site-packages\\selenium\\webdriver\\remote\\errorhandler.py:229\u001b[0m, in \u001b[0;36mErrorHandler.check_response\u001b[1;34m(self, response)\u001b[0m\n\u001b[0;32m    228\u001b[0m     \u001b[38;5;28;01mraise\u001b[39;00m exception_class(message, screen, stacktrace, alert_text)  \u001b[38;5;66;03m# type: ignore[call-arg]  # mypy is not smart enough here\u001b[39;00m\n\u001b[1;32m--> 229\u001b[0m \u001b[38;5;28;01mraise\u001b[39;00m exception_class(message, screen, stacktrace)\n",
      "\u001b[1;31mNoSuchWindowException\u001b[0m: Message: no such window: target window already closed\nfrom unknown error: web view not found\n  (Session info: chrome=119.0.6045.200)\nStacktrace:\n\tGetHandleVerifier [0x00007FF75C8382B2+55298]\n\t(No symbol) [0x00007FF75C7A5E02]\n\t(No symbol) [0x00007FF75C6605AB]\n\t(No symbol) [0x00007FF75C640038]\n\t(No symbol) [0x00007FF75C6C6BC7]\n\t(No symbol) [0x00007FF75C6DA15F]\n\t(No symbol) [0x00007FF75C6C1E83]\n\t(No symbol) [0x00007FF75C69670A]\n\t(No symbol) [0x00007FF75C697964]\n\tGetHandleVerifier [0x00007FF75CBB0AAB+3694587]\n\tGetHandleVerifier [0x00007FF75CC0728E+4048862]\n\tGetHandleVerifier [0x00007FF75CBFF173+4015811]\n\tGetHandleVerifier [0x00007FF75C8D47D6+695590]\n\t(No symbol) [0x00007FF75C7B0CE8]\n\t(No symbol) [0x00007FF75C7ACF34]\n\t(No symbol) [0x00007FF75C7AD062]\n\t(No symbol) [0x00007FF75C79D3A3]\n\tBaseThreadInitThunk [0x00007FFCE5997344+20]\n\tRtlUserThreadStart [0x00007FFCE68C26B1+33]\n",
      "\nDuring handling of the above exception, another exception occurred:\n",
      "\u001b[1;31mNoSuchWindowException\u001b[0m                     Traceback (most recent call last)",
      "Cell \u001b[1;32mIn[43], line 1\u001b[0m\n\u001b[1;32m----> 1\u001b[0m \u001b[43mnavigate_to_offer\u001b[49m\u001b[43m(\u001b[49m\u001b[43mdriver\u001b[49m\u001b[43m)\u001b[49m\n\u001b[0;32m      3\u001b[0m fha_pi_savings(driver)\n\u001b[0;32m      4\u001b[0m rate_term(driver)\n",
      "Cell \u001b[1;32mIn[40], line 34\u001b[0m, in \u001b[0;36mnavigate_to_offer\u001b[1;34m(driver)\u001b[0m\n\u001b[0;32m     31\u001b[0m     time\u001b[38;5;241m.\u001b[39msleep(\u001b[38;5;241m2\u001b[39m)\n\u001b[0;32m     32\u001b[0m \u001b[38;5;28;01mexcept\u001b[39;00m:\n\u001b[0;32m     33\u001b[0m     \u001b[38;5;66;03m# Navigate to a offer section\u001b[39;00m\n\u001b[1;32m---> 34\u001b[0m     \u001b[43mdriver\u001b[49m\u001b[38;5;241;43m.\u001b[39;49m\u001b[43mfind_element\u001b[49m\u001b[43m(\u001b[49m\u001b[43mBy\u001b[49m\u001b[38;5;241;43m.\u001b[39;49m\u001b[43mXPATH\u001b[49m\u001b[43m,\u001b[49m\u001b[43m \u001b[49m\u001b[38;5;124;43m\"\u001b[39;49m\u001b[38;5;124;43m//span[normalize-space()=\u001b[39;49m\u001b[38;5;124;43m'\u001b[39;49m\u001b[38;5;124;43mcreate offers\u001b[39;49m\u001b[38;5;124;43m'\u001b[39;49m\u001b[38;5;124;43m]\u001b[39;49m\u001b[38;5;124;43m\"\u001b[39;49m\u001b[43m)\u001b[49m\u001b[38;5;241m.\u001b[39mclick()\n\u001b[0;32m     35\u001b[0m     time\u001b[38;5;241m.\u001b[39msleep(\u001b[38;5;241m2\u001b[39m)\n",
      "File \u001b[1;32mc:\\users\\lenovo\\pycharmprojects\\synergi-backend-api\\env\\lib\\site-packages\\selenium\\webdriver\\remote\\webdriver.py:741\u001b[0m, in \u001b[0;36mWebDriver.find_element\u001b[1;34m(self, by, value)\u001b[0m\n\u001b[0;32m    738\u001b[0m     by \u001b[38;5;241m=\u001b[39m By\u001b[38;5;241m.\u001b[39mCSS_SELECTOR\n\u001b[0;32m    739\u001b[0m     value \u001b[38;5;241m=\u001b[39m \u001b[38;5;124mf\u001b[39m\u001b[38;5;124m'\u001b[39m\u001b[38;5;124m[name=\u001b[39m\u001b[38;5;124m\"\u001b[39m\u001b[38;5;132;01m{\u001b[39;00mvalue\u001b[38;5;132;01m}\u001b[39;00m\u001b[38;5;124m\"\u001b[39m\u001b[38;5;124m]\u001b[39m\u001b[38;5;124m'\u001b[39m\n\u001b[1;32m--> 741\u001b[0m \u001b[38;5;28;01mreturn\u001b[39;00m \u001b[38;5;28;43mself\u001b[39;49m\u001b[38;5;241;43m.\u001b[39;49m\u001b[43mexecute\u001b[49m\u001b[43m(\u001b[49m\u001b[43mCommand\u001b[49m\u001b[38;5;241;43m.\u001b[39;49m\u001b[43mFIND_ELEMENT\u001b[49m\u001b[43m,\u001b[49m\u001b[43m \u001b[49m\u001b[43m{\u001b[49m\u001b[38;5;124;43m\"\u001b[39;49m\u001b[38;5;124;43musing\u001b[39;49m\u001b[38;5;124;43m\"\u001b[39;49m\u001b[43m:\u001b[49m\u001b[43m \u001b[49m\u001b[43mby\u001b[49m\u001b[43m,\u001b[49m\u001b[43m \u001b[49m\u001b[38;5;124;43m\"\u001b[39;49m\u001b[38;5;124;43mvalue\u001b[39;49m\u001b[38;5;124;43m\"\u001b[39;49m\u001b[43m:\u001b[49m\u001b[43m \u001b[49m\u001b[43mvalue\u001b[49m\u001b[43m}\u001b[49m\u001b[43m)\u001b[49m[\u001b[38;5;124m\"\u001b[39m\u001b[38;5;124mvalue\u001b[39m\u001b[38;5;124m\"\u001b[39m]\n",
      "File \u001b[1;32mc:\\users\\lenovo\\pycharmprojects\\synergi-backend-api\\env\\lib\\site-packages\\selenium\\webdriver\\remote\\webdriver.py:347\u001b[0m, in \u001b[0;36mWebDriver.execute\u001b[1;34m(self, driver_command, params)\u001b[0m\n\u001b[0;32m    345\u001b[0m response \u001b[38;5;241m=\u001b[39m \u001b[38;5;28mself\u001b[39m\u001b[38;5;241m.\u001b[39mcommand_executor\u001b[38;5;241m.\u001b[39mexecute(driver_command, params)\n\u001b[0;32m    346\u001b[0m \u001b[38;5;28;01mif\u001b[39;00m response:\n\u001b[1;32m--> 347\u001b[0m     \u001b[38;5;28;43mself\u001b[39;49m\u001b[38;5;241;43m.\u001b[39;49m\u001b[43merror_handler\u001b[49m\u001b[38;5;241;43m.\u001b[39;49m\u001b[43mcheck_response\u001b[49m\u001b[43m(\u001b[49m\u001b[43mresponse\u001b[49m\u001b[43m)\u001b[49m\n\u001b[0;32m    348\u001b[0m     response[\u001b[38;5;124m\"\u001b[39m\u001b[38;5;124mvalue\u001b[39m\u001b[38;5;124m\"\u001b[39m] \u001b[38;5;241m=\u001b[39m \u001b[38;5;28mself\u001b[39m\u001b[38;5;241m.\u001b[39m_unwrap_value(response\u001b[38;5;241m.\u001b[39mget(\u001b[38;5;124m\"\u001b[39m\u001b[38;5;124mvalue\u001b[39m\u001b[38;5;124m\"\u001b[39m, \u001b[38;5;28;01mNone\u001b[39;00m))\n\u001b[0;32m    349\u001b[0m     \u001b[38;5;28;01mreturn\u001b[39;00m response\n",
      "File \u001b[1;32mc:\\users\\lenovo\\pycharmprojects\\synergi-backend-api\\env\\lib\\site-packages\\selenium\\webdriver\\remote\\errorhandler.py:229\u001b[0m, in \u001b[0;36mErrorHandler.check_response\u001b[1;34m(self, response)\u001b[0m\n\u001b[0;32m    227\u001b[0m         alert_text \u001b[38;5;241m=\u001b[39m value[\u001b[38;5;124m\"\u001b[39m\u001b[38;5;124malert\u001b[39m\u001b[38;5;124m\"\u001b[39m]\u001b[38;5;241m.\u001b[39mget(\u001b[38;5;124m\"\u001b[39m\u001b[38;5;124mtext\u001b[39m\u001b[38;5;124m\"\u001b[39m)\n\u001b[0;32m    228\u001b[0m     \u001b[38;5;28;01mraise\u001b[39;00m exception_class(message, screen, stacktrace, alert_text)  \u001b[38;5;66;03m# type: ignore[call-arg]  # mypy is not smart enough here\u001b[39;00m\n\u001b[1;32m--> 229\u001b[0m \u001b[38;5;28;01mraise\u001b[39;00m exception_class(message, screen, stacktrace)\n",
      "\u001b[1;31mNoSuchWindowException\u001b[0m: Message: no such window: target window already closed\nfrom unknown error: web view not found\n  (Session info: chrome=119.0.6045.200)\nStacktrace:\n\tGetHandleVerifier [0x00007FF75C8382B2+55298]\n\t(No symbol) [0x00007FF75C7A5E02]\n\t(No symbol) [0x00007FF75C6605AB]\n\t(No symbol) [0x00007FF75C640038]\n\t(No symbol) [0x00007FF75C6C6BC7]\n\t(No symbol) [0x00007FF75C6DA15F]\n\t(No symbol) [0x00007FF75C6C1E83]\n\t(No symbol) [0x00007FF75C69670A]\n\t(No symbol) [0x00007FF75C697964]\n\tGetHandleVerifier [0x00007FF75CBB0AAB+3694587]\n\tGetHandleVerifier [0x00007FF75CC0728E+4048862]\n\tGetHandleVerifier [0x00007FF75CBFF173+4015811]\n\tGetHandleVerifier [0x00007FF75C8D47D6+695590]\n\t(No symbol) [0x00007FF75C7B0CE8]\n\t(No symbol) [0x00007FF75C7ACF34]\n\t(No symbol) [0x00007FF75C7AD062]\n\t(No symbol) [0x00007FF75C79D3A3]\n\tBaseThreadInitThunk [0x00007FFCE5997344+20]\n\tRtlUserThreadStart [0x00007FFCE68C26B1+33]\n"
     ]
    }
   ],
   "source": [
    "navigate_to_offer(driver)\n",
    "    \n",
    "fha_pi_savings(driver)\n",
    "rate_term(driver)\n"
   ]
  },
  {
   "cell_type": "code",
   "execution_count": 27,
   "id": "07ca56f5-71ba-4224-a63d-85e8135efbe4",
   "metadata": {},
   "outputs": [
    {
     "data": {
      "text/plain": [
       "'NoneType: None\\n'"
      ]
     },
     "execution_count": 27,
     "metadata": {},
     "output_type": "execute_result"
    }
   ],
   "source": [
    "import traceback\n",
    "traceback.format_exc()"
   ]
  },
  {
   "cell_type": "code",
   "execution_count": 31,
   "id": "91ea88fb-d7e1-4e79-875b-dddb934f8e71",
   "metadata": {},
   "outputs": [
    {
     "ename": "NoSuchWindowException",
     "evalue": "Message: no such window: target window already closed\nfrom unknown error: web view not found\n  (Session info: chrome=119.0.6045.200)\nStacktrace:\n\tGetHandleVerifier [0x00007FF75C8382B2+55298]\n\t(No symbol) [0x00007FF75C7A5E02]\n\t(No symbol) [0x00007FF75C6605AB]\n\t(No symbol) [0x00007FF75C640038]\n\t(No symbol) [0x00007FF75C6C6BC7]\n\t(No symbol) [0x00007FF75C6DA15F]\n\t(No symbol) [0x00007FF75C6C1E83]\n\t(No symbol) [0x00007FF75C69670A]\n\t(No symbol) [0x00007FF75C697964]\n\tGetHandleVerifier [0x00007FF75CBB0AAB+3694587]\n\tGetHandleVerifier [0x00007FF75CC0728E+4048862]\n\tGetHandleVerifier [0x00007FF75CBFF173+4015811]\n\tGetHandleVerifier [0x00007FF75C8D47D6+695590]\n\t(No symbol) [0x00007FF75C7B0CE8]\n\t(No symbol) [0x00007FF75C7ACF34]\n\t(No symbol) [0x00007FF75C7AD062]\n\t(No symbol) [0x00007FF75C79D3A3]\n\tBaseThreadInitThunk [0x00007FFCE5997344+20]\n\tRtlUserThreadStart [0x00007FFCE68C26B1+33]\n",
     "output_type": "error",
     "traceback": [
      "\u001b[1;31m---------------------------------------------------------------------------\u001b[0m",
      "\u001b[1;31mNoSuchWindowException\u001b[0m                     Traceback (most recent call last)",
      "Cell \u001b[1;32mIn[31], line 1\u001b[0m\n\u001b[1;32m----> 1\u001b[0m \u001b[43mnavigate_to_offer\u001b[49m\u001b[43m(\u001b[49m\u001b[43mdriver\u001b[49m\u001b[43m)\u001b[49m\n",
      "Cell \u001b[1;32mIn[26], line 29\u001b[0m, in \u001b[0;36mnavigate_to_offer\u001b[1;34m(driver)\u001b[0m\n\u001b[0;32m     27\u001b[0m \u001b[38;5;28;01mdef\u001b[39;00m \u001b[38;5;21mnavigate_to_offer\u001b[39m(driver):\n\u001b[0;32m     28\u001b[0m     \u001b[38;5;66;03m# Navigate to a offer section\u001b[39;00m\n\u001b[1;32m---> 29\u001b[0m     \u001b[43mdriver\u001b[49m\u001b[38;5;241;43m.\u001b[39;49m\u001b[43mfind_element\u001b[49m\u001b[43m(\u001b[49m\u001b[43mBy\u001b[49m\u001b[38;5;241;43m.\u001b[39;49m\u001b[43mXPATH\u001b[49m\u001b[43m,\u001b[49m\u001b[43m \u001b[49m\u001b[38;5;124;43m\"\u001b[39;49m\u001b[38;5;124;43m//span[normalize-space()=\u001b[39;49m\u001b[38;5;124;43m'\u001b[39;49m\u001b[38;5;124;43mOffers\u001b[39;49m\u001b[38;5;124;43m'\u001b[39;49m\u001b[38;5;124;43m]\u001b[39;49m\u001b[38;5;124;43m\"\u001b[39;49m\u001b[43m)\u001b[49m\u001b[38;5;241m.\u001b[39mclick()\n\u001b[0;32m     30\u001b[0m     time\u001b[38;5;241m.\u001b[39msleep(\u001b[38;5;241m2\u001b[39m)\n",
      "File \u001b[1;32mc:\\users\\lenovo\\pycharmprojects\\synergi-backend-api\\env\\lib\\site-packages\\selenium\\webdriver\\remote\\webdriver.py:741\u001b[0m, in \u001b[0;36mWebDriver.find_element\u001b[1;34m(self, by, value)\u001b[0m\n\u001b[0;32m    738\u001b[0m     by \u001b[38;5;241m=\u001b[39m By\u001b[38;5;241m.\u001b[39mCSS_SELECTOR\n\u001b[0;32m    739\u001b[0m     value \u001b[38;5;241m=\u001b[39m \u001b[38;5;124mf\u001b[39m\u001b[38;5;124m'\u001b[39m\u001b[38;5;124m[name=\u001b[39m\u001b[38;5;124m\"\u001b[39m\u001b[38;5;132;01m{\u001b[39;00mvalue\u001b[38;5;132;01m}\u001b[39;00m\u001b[38;5;124m\"\u001b[39m\u001b[38;5;124m]\u001b[39m\u001b[38;5;124m'\u001b[39m\n\u001b[1;32m--> 741\u001b[0m \u001b[38;5;28;01mreturn\u001b[39;00m \u001b[38;5;28;43mself\u001b[39;49m\u001b[38;5;241;43m.\u001b[39;49m\u001b[43mexecute\u001b[49m\u001b[43m(\u001b[49m\u001b[43mCommand\u001b[49m\u001b[38;5;241;43m.\u001b[39;49m\u001b[43mFIND_ELEMENT\u001b[49m\u001b[43m,\u001b[49m\u001b[43m \u001b[49m\u001b[43m{\u001b[49m\u001b[38;5;124;43m\"\u001b[39;49m\u001b[38;5;124;43musing\u001b[39;49m\u001b[38;5;124;43m\"\u001b[39;49m\u001b[43m:\u001b[49m\u001b[43m \u001b[49m\u001b[43mby\u001b[49m\u001b[43m,\u001b[49m\u001b[43m \u001b[49m\u001b[38;5;124;43m\"\u001b[39;49m\u001b[38;5;124;43mvalue\u001b[39;49m\u001b[38;5;124;43m\"\u001b[39;49m\u001b[43m:\u001b[49m\u001b[43m \u001b[49m\u001b[43mvalue\u001b[49m\u001b[43m}\u001b[49m\u001b[43m)\u001b[49m[\u001b[38;5;124m\"\u001b[39m\u001b[38;5;124mvalue\u001b[39m\u001b[38;5;124m\"\u001b[39m]\n",
      "File \u001b[1;32mc:\\users\\lenovo\\pycharmprojects\\synergi-backend-api\\env\\lib\\site-packages\\selenium\\webdriver\\remote\\webdriver.py:347\u001b[0m, in \u001b[0;36mWebDriver.execute\u001b[1;34m(self, driver_command, params)\u001b[0m\n\u001b[0;32m    345\u001b[0m response \u001b[38;5;241m=\u001b[39m \u001b[38;5;28mself\u001b[39m\u001b[38;5;241m.\u001b[39mcommand_executor\u001b[38;5;241m.\u001b[39mexecute(driver_command, params)\n\u001b[0;32m    346\u001b[0m \u001b[38;5;28;01mif\u001b[39;00m response:\n\u001b[1;32m--> 347\u001b[0m     \u001b[38;5;28;43mself\u001b[39;49m\u001b[38;5;241;43m.\u001b[39;49m\u001b[43merror_handler\u001b[49m\u001b[38;5;241;43m.\u001b[39;49m\u001b[43mcheck_response\u001b[49m\u001b[43m(\u001b[49m\u001b[43mresponse\u001b[49m\u001b[43m)\u001b[49m\n\u001b[0;32m    348\u001b[0m     response[\u001b[38;5;124m\"\u001b[39m\u001b[38;5;124mvalue\u001b[39m\u001b[38;5;124m\"\u001b[39m] \u001b[38;5;241m=\u001b[39m \u001b[38;5;28mself\u001b[39m\u001b[38;5;241m.\u001b[39m_unwrap_value(response\u001b[38;5;241m.\u001b[39mget(\u001b[38;5;124m\"\u001b[39m\u001b[38;5;124mvalue\u001b[39m\u001b[38;5;124m\"\u001b[39m, \u001b[38;5;28;01mNone\u001b[39;00m))\n\u001b[0;32m    349\u001b[0m     \u001b[38;5;28;01mreturn\u001b[39;00m response\n",
      "File \u001b[1;32mc:\\users\\lenovo\\pycharmprojects\\synergi-backend-api\\env\\lib\\site-packages\\selenium\\webdriver\\remote\\errorhandler.py:229\u001b[0m, in \u001b[0;36mErrorHandler.check_response\u001b[1;34m(self, response)\u001b[0m\n\u001b[0;32m    227\u001b[0m         alert_text \u001b[38;5;241m=\u001b[39m value[\u001b[38;5;124m\"\u001b[39m\u001b[38;5;124malert\u001b[39m\u001b[38;5;124m\"\u001b[39m]\u001b[38;5;241m.\u001b[39mget(\u001b[38;5;124m\"\u001b[39m\u001b[38;5;124mtext\u001b[39m\u001b[38;5;124m\"\u001b[39m)\n\u001b[0;32m    228\u001b[0m     \u001b[38;5;28;01mraise\u001b[39;00m exception_class(message, screen, stacktrace, alert_text)  \u001b[38;5;66;03m# type: ignore[call-arg]  # mypy is not smart enough here\u001b[39;00m\n\u001b[1;32m--> 229\u001b[0m \u001b[38;5;28;01mraise\u001b[39;00m exception_class(message, screen, stacktrace)\n",
      "\u001b[1;31mNoSuchWindowException\u001b[0m: Message: no such window: target window already closed\nfrom unknown error: web view not found\n  (Session info: chrome=119.0.6045.200)\nStacktrace:\n\tGetHandleVerifier [0x00007FF75C8382B2+55298]\n\t(No symbol) [0x00007FF75C7A5E02]\n\t(No symbol) [0x00007FF75C6605AB]\n\t(No symbol) [0x00007FF75C640038]\n\t(No symbol) [0x00007FF75C6C6BC7]\n\t(No symbol) [0x00007FF75C6DA15F]\n\t(No symbol) [0x00007FF75C6C1E83]\n\t(No symbol) [0x00007FF75C69670A]\n\t(No symbol) [0x00007FF75C697964]\n\tGetHandleVerifier [0x00007FF75CBB0AAB+3694587]\n\tGetHandleVerifier [0x00007FF75CC0728E+4048862]\n\tGetHandleVerifier [0x00007FF75CBFF173+4015811]\n\tGetHandleVerifier [0x00007FF75C8D47D6+695590]\n\t(No symbol) [0x00007FF75C7B0CE8]\n\t(No symbol) [0x00007FF75C7ACF34]\n\t(No symbol) [0x00007FF75C7AD062]\n\t(No symbol) [0x00007FF75C79D3A3]\n\tBaseThreadInitThunk [0x00007FFCE5997344+20]\n\tRtlUserThreadStart [0x00007FFCE68C26B1+33]\n"
     ]
    }
   ],
   "source": [
    "navigate_to_offer(driver)\n"
   ]
  },
  {
   "cell_type": "code",
   "execution_count": null,
   "id": "7a234d8b-68c2-4f06-aafb-a368f86ec243",
   "metadata": {},
   "outputs": [],
   "source": []
  },
  {
   "cell_type": "code",
   "execution_count": 13,
   "id": "1a920c0a-a0bd-4052-a85f-793ad352f29b",
   "metadata": {},
   "outputs": [],
   "source": [
    "def get_random_id(word_len=10):\n",
    "    return \"\".join ( \n",
    "        random.choice(\"0123456789\") \n",
    "        if i%2 == 0 \n",
    "        else random.choice(string.ascii_letters + '  ') \n",
    "    for i in range(word_len))"
   ]
  },
  {
   "cell_type": "code",
   "execution_count": 12,
   "id": "266b6261-68d7-4fe6-90d8-43b7dad182a0",
   "metadata": {},
   "outputs": [
    {
     "data": {
      "text/plain": [
       "'6y3Y8t9v7S'"
      ]
     },
     "execution_count": 12,
     "metadata": {},
     "output_type": "execute_result"
    }
   ],
   "source": []
  },
  {
   "cell_type": "code",
   "execution_count": 5,
   "id": "c1d34b88-caf4-4339-ae53-52c1efcc4760",
   "metadata": {},
   "outputs": [
    {
     "ename": "TimeoutException",
     "evalue": "Message: \nStacktrace:\n\tGetHandleVerifier [0x00007FF75C8382B2+55298]\n\t(No symbol) [0x00007FF75C7A5E02]\n\t(No symbol) [0x00007FF75C6605AB]\n\t(No symbol) [0x00007FF75C6A175C]\n\t(No symbol) [0x00007FF75C6A18DC]\n\t(No symbol) [0x00007FF75C6DCBC7]\n\t(No symbol) [0x00007FF75C6C20EF]\n\t(No symbol) [0x00007FF75C6DAAA4]\n\t(No symbol) [0x00007FF75C6C1E83]\n\t(No symbol) [0x00007FF75C69670A]\n\t(No symbol) [0x00007FF75C697964]\n\tGetHandleVerifier [0x00007FF75CBB0AAB+3694587]\n\tGetHandleVerifier [0x00007FF75CC0728E+4048862]\n\tGetHandleVerifier [0x00007FF75CBFF173+4015811]\n\tGetHandleVerifier [0x00007FF75C8D47D6+695590]\n\t(No symbol) [0x00007FF75C7B0CE8]\n\t(No symbol) [0x00007FF75C7ACF34]\n\t(No symbol) [0x00007FF75C7AD062]\n\t(No symbol) [0x00007FF75C79D3A3]\n\tBaseThreadInitThunk [0x00007FFCE5997344+20]\n\tRtlUserThreadStart [0x00007FFCE68C26B1+33]\n",
     "output_type": "error",
     "traceback": [
      "\u001b[1;31m---------------------------------------------------------------------------\u001b[0m",
      "\u001b[1;31mTimeoutException\u001b[0m                          Traceback (most recent call last)",
      "Cell \u001b[1;32mIn[5], line 10\u001b[0m\n\u001b[0;32m      8\u001b[0m login(driver, username, password)\n\u001b[0;32m      9\u001b[0m navigate_to_offer(driver)\n\u001b[1;32m---> 10\u001b[0m \u001b[43mgeneral\u001b[49m\u001b[43m(\u001b[49m\u001b[43mdriver\u001b[49m\u001b[43m)\u001b[49m\n",
      "Cell \u001b[1;32mIn[3], line 73\u001b[0m, in \u001b[0;36mgeneral\u001b[1;34m(driver)\u001b[0m\n\u001b[0;32m     70\u001b[0m \u001b[38;5;66;03m# Create General\u001b[39;00m\n\u001b[0;32m     71\u001b[0m driver\u001b[38;5;241m.\u001b[39mfind_element(By\u001b[38;5;241m.\u001b[39mCSS_SELECTOR, \u001b[38;5;124m\"\u001b[39m\u001b[38;5;124mdiv:nth-child(4) button:nth-child(1)\u001b[39m\u001b[38;5;124m\"\u001b[39m)\u001b[38;5;241m.\u001b[39mclick()\n\u001b[1;32m---> 73\u001b[0m \u001b[43medit_offer\u001b[49m\u001b[43m(\u001b[49m\u001b[43mdriver\u001b[49m\u001b[43m,\u001b[49m\u001b[43m \u001b[49m\u001b[43mOffer_name\u001b[49m\u001b[43m)\u001b[49m\n",
      "Cell \u001b[1;32mIn[3], line 55\u001b[0m, in \u001b[0;36medit_offer\u001b[1;34m(driver, Offer_name)\u001b[0m\n\u001b[0;32m     52\u001b[0m driver\u001b[38;5;241m.\u001b[39mfind_element(By\u001b[38;5;241m.\u001b[39mCSS_SELECTOR, \u001b[38;5;124m\"\u001b[39m\u001b[38;5;124m.MuiButton-containedSizeMedium.css-15fbcyu\u001b[39m\u001b[38;5;124m\"\u001b[39m)\u001b[38;5;241m.\u001b[39mclick()\n\u001b[0;32m     54\u001b[0m \u001b[38;5;66;03m# Wait for load Save offer\u001b[39;00m\n\u001b[1;32m---> 55\u001b[0m \u001b[43mWebDriverWait\u001b[49m\u001b[43m(\u001b[49m\u001b[43mdriver\u001b[49m\u001b[43m,\u001b[49m\u001b[43m \u001b[49m\u001b[38;5;241;43m20\u001b[39;49m\u001b[43m)\u001b[49m\u001b[38;5;241;43m.\u001b[39;49m\u001b[43muntil\u001b[49m\u001b[43m(\u001b[49m\u001b[43mEC\u001b[49m\u001b[38;5;241;43m.\u001b[39;49m\u001b[43melement_to_be_clickable\u001b[49m\u001b[43m(\u001b[49m\u001b[43m(\u001b[49m\u001b[43mBy\u001b[49m\u001b[38;5;241;43m.\u001b[39;49m\u001b[43mCSS_SELECTOR\u001b[49m\u001b[43m,\u001b[49m\u001b[43m \u001b[49m\u001b[38;5;124;43m\"\u001b[39;49m\u001b[38;5;124;43m.MuiButton-containedSizeMedium.css-1hw9j7s\u001b[39;49m\u001b[38;5;124;43m\"\u001b[39;49m\u001b[43m)\u001b[49m\u001b[43m)\u001b[49m\u001b[43m)\u001b[49m\n\u001b[0;32m     57\u001b[0m \u001b[38;5;66;03m# Save offer\u001b[39;00m\n\u001b[0;32m     58\u001b[0m driver\u001b[38;5;241m.\u001b[39mfind_element(By\u001b[38;5;241m.\u001b[39mCSS_SELECTOR, \u001b[38;5;124m\"\u001b[39m\u001b[38;5;124m.MuiButton-containedSizeMedium.css-1hw9j7s\u001b[39m\u001b[38;5;124m\"\u001b[39m)\u001b[38;5;241m.\u001b[39mclick()\n",
      "File \u001b[1;32mc:\\users\\lenovo\\pycharmprojects\\synergi-backend-api\\env\\lib\\site-packages\\selenium\\webdriver\\support\\wait.py:101\u001b[0m, in \u001b[0;36mWebDriverWait.until\u001b[1;34m(self, method, message)\u001b[0m\n\u001b[0;32m     99\u001b[0m     \u001b[38;5;28;01mif\u001b[39;00m time\u001b[38;5;241m.\u001b[39mmonotonic() \u001b[38;5;241m>\u001b[39m end_time:\n\u001b[0;32m    100\u001b[0m         \u001b[38;5;28;01mbreak\u001b[39;00m\n\u001b[1;32m--> 101\u001b[0m \u001b[38;5;28;01mraise\u001b[39;00m TimeoutException(message, screen, stacktrace)\n",
      "\u001b[1;31mTimeoutException\u001b[0m: Message: \nStacktrace:\n\tGetHandleVerifier [0x00007FF75C8382B2+55298]\n\t(No symbol) [0x00007FF75C7A5E02]\n\t(No symbol) [0x00007FF75C6605AB]\n\t(No symbol) [0x00007FF75C6A175C]\n\t(No symbol) [0x00007FF75C6A18DC]\n\t(No symbol) [0x00007FF75C6DCBC7]\n\t(No symbol) [0x00007FF75C6C20EF]\n\t(No symbol) [0x00007FF75C6DAAA4]\n\t(No symbol) [0x00007FF75C6C1E83]\n\t(No symbol) [0x00007FF75C69670A]\n\t(No symbol) [0x00007FF75C697964]\n\tGetHandleVerifier [0x00007FF75CBB0AAB+3694587]\n\tGetHandleVerifier [0x00007FF75CC0728E+4048862]\n\tGetHandleVerifier [0x00007FF75CBFF173+4015811]\n\tGetHandleVerifier [0x00007FF75C8D47D6+695590]\n\t(No symbol) [0x00007FF75C7B0CE8]\n\t(No symbol) [0x00007FF75C7ACF34]\n\t(No symbol) [0x00007FF75C7AD062]\n\t(No symbol) [0x00007FF75C79D3A3]\n\tBaseThreadInitThunk [0x00007FFCE5997344+20]\n\tRtlUserThreadStart [0x00007FFCE68C26B1+33]\n"
     ]
    }
   ],
   "source": [
    "# Create a webdriver instance\n",
    "driver = webdriver.Chrome()\n",
    "\n",
    "# login credentials\n",
    "username = \"ketulpadariya79@gmail.com\"\n",
    "password = \"Ketul@123\"\n",
    "\n",
    "login(driver, username, password)\n",
    "navigate_to_offer(driver)\n",
    "general(driver)\n"
   ]
  },
  {
   "cell_type": "code",
   "execution_count": null,
   "id": "8b997756-103f-4294-b843-af3d563923d6",
   "metadata": {},
   "outputs": [],
   "source": [
    "fha_pi_savings(driver)\n",
    "rate_term(driver)\n",
    "cashout(driver)\n",
    "purchase_fha(driver)\n"
   ]
  }
 ],
 "metadata": {
  "kernelspec": {
   "display_name": "Python 3 (ipykernel)",
   "language": "python",
   "name": "python3"
  },
  "language_info": {
   "codemirror_mode": {
    "name": "ipython",
    "version": 3
   },
   "file_extension": ".py",
   "mimetype": "text/x-python",
   "name": "python",
   "nbconvert_exporter": "python",
   "pygments_lexer": "ipython3",
   "version": "3.9.0"
  }
 },
 "nbformat": 4,
 "nbformat_minor": 5
}
