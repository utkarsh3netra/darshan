{
 "cells": [
  {
   "cell_type": "raw",
   "id": "5d06d7b0-3f6e-437d-b4a4-b651ce7eb56d",
   "metadata": {},
   "source": [
    "Problem: Grouping Elements by Frequency\n",
    "Task: Given a list of elements (which can include any data type), write a Python program that groups these elements based on their frequency in the list. The result should be a dictionary where each key is a frequency count, and the corresponding value is a list of elements that appear with that frequency.\n",
    "\n",
    "Input: [\"apple\", \"banana\", \"apple\", \"orange\", \"banana\", \"apple\"]\n",
    "Example:\n",
    "Output: {3: [\"apple\"], 2: [\"banana\"], 1: [\"orange\"]}\n",
    "In this example, \"apple\" appears 3 times, \"banana\" appears 2 times, and \"orange\" appears 1 time."
   ]
  },
  {
   "cell_type": "code",
   "execution_count": 4,
   "id": "f081d9ae-c81d-4aad-80a0-eb1a2c57c854",
   "metadata": {},
   "outputs": [
    {
     "name": "stdout",
     "output_type": "stream",
     "text": [
      "['apple', 'banana', 'apple', 'orange', 'banana', 'apple']\n",
      "{'apple': 3, 'banana': 2, 'orange': 1}\n"
     ]
    }
   ],
   "source": [
    "list = [\"apple\", \"banana\", \"apple\", \"orange\", \"banana\", \"apple\"]\n",
    "print(list)\n",
    "d = {}\n",
    "sum = 1\n",
    "for i in list:\n",
    "    if i in d:\n",
    "        d[i] += 1\n",
    "    else:\n",
    "        d[i] = sum\n",
    "print(d)\n"
   ]
  },
  {
   "cell_type": "raw",
   "id": "906a9cc9-a99f-4a26-b15d-6eaf8c7d914b",
   "metadata": {},
   "source": [
    "Problem: Library Database\n",
    "Task: You are given a list of books, where each book is represented as a dictionary containing the book's title, author, genre, and year of publication. Write a Python program to perform the following tasks:\n",
    "\n",
    "1) Categorize Books by Genre: Create a dictionary where each key is a genre, and the value is a list of books (titles) belonging to that genre.\n",
    "2) Find the Oldest Book in Each Genre: For each genre, determine the oldest book.\n",
    "3) Author's Book Count: Create a dictionary that maps each author to the number of books they have written in the database.\n",
    "\n",
    "\n",
    "library = [\n",
    "    {\"title\": \"To Kill a Mockingbird\", \"author\": \"Harper Lee\", \"genre\": \"Classic\", \"year\": 1960},\n",
    "    {\"title\": \"1984\", \"author\": \"George Orwell\", \"genre\": \"Dystopian\", \"year\": 1949},\n",
    "    {\"title\": \"The Great Gatsby\", \"author\": \"F. Scott Fitzgerald\", \"genre\": \"Classic\", \"year\": 1925},\n",
    "    {\"title\": \"Brave New World\", \"author\": \"Aldous Huxley\", \"genre\": \"Dystopian\", \"year\": 1932}\n",
    "]"
   ]
  },
  {
   "cell_type": "code",
   "execution_count": 5,
   "id": "585d4c76-e68c-4b48-85ad-4f652901e6a2",
   "metadata": {},
   "outputs": [
    {
     "name": "stdout",
     "output_type": "stream",
     "text": [
      "[{'title': 'To Kill a Mockingbird', 'author': 'Harper Lee', 'genre': 'Classic', 'year': 1960}, {'title': '1984', 'author': 'George Orwell', 'genre': 'Dystopian', 'year': 1949}, {'title': 'The Great Gatsby', 'author': 'F. Scott Fitzgerald', 'genre': 'Classic', 'year': 1925}, {'title': 'Brave New World', 'author': 'Aldous Huxley', 'genre': 'Dystopian', 'year': 1932}]\n",
      "\n",
      "Classic:['To Kill a Mockingbird', 'The Great Gatsby']\n",
      "\n",
      "Dystopian:['1984', 'Brave New World']\n",
      "\n",
      "Old Book :  {'Classic': {'title': 'The Great Gatsby', 'author': 'F. Scott Fitzgerald', 'genre': 'Classic', 'year': 1925}, 'Dystopian': {'title': 'Brave New World', 'author': 'Aldous Huxley', 'genre': 'Dystopian', 'year': 1932}}\n",
      "\n",
      "author : \n",
      "Harper Lee:1\n",
      "\n",
      "author : \n",
      "George Orwell:1\n",
      "\n",
      "author : \n",
      "F. Scott Fitzgerald:1\n",
      "\n",
      "author : \n",
      "Aldous Huxley:1\n"
     ]
    }
   ],
   "source": [
    "library = [\n",
    "    {\"title\": \"To Kill a Mockingbird\", \"author\": \"Harper Lee\", \"genre\": \"Classic\", \"year\": 1960},\n",
    "    {\"title\": \"1984\", \"author\": \"George Orwell\", \"genre\": \"Dystopian\", \"year\": 1949},\n",
    "    {\"title\": \"The Great Gatsby\", \"author\": \"F. Scott Fitzgerald\", \"genre\": \"Classic\", \"year\": 1925},\n",
    "    {\"title\": \"Brave New World\", \"author\": \"Aldous Huxley\", \"genre\": \"Dystopian\", \"year\": 1932}\n",
    "]\n",
    "print(library)\n",
    "\n",
    "# 1 Task\n",
    "book_genre = {}\n",
    "\n",
    "for book in library:\n",
    "    genre = book['genre']\n",
    "    if genre in book_genre:\n",
    "        book_genre[genre].append(book[\"title\"])\n",
    "    else:\n",
    "        book_genre[genre] = [book[\"title\"]]\n",
    "\n",
    "for genre, book in book_genre.items():\n",
    "    print(f\"\\n{genre}:{book}\")\n",
    "\n",
    "# 2 Task\n",
    "\n",
    "old_book = {}\n",
    "for book in library:\n",
    "    genre = book['genre']\n",
    "    if genre not in old_book or book[\"year\"] < old_book[genre][\"year\"]:\n",
    "        old_book[genre] = book\n",
    "print(\"\\nOld Book : \", old_book)\n",
    "\n",
    "# 3 Task\n",
    "\n",
    "author_book = {}\n",
    "for book in library:\n",
    "    author = book[\"author\"]\n",
    "    if author in author_book:\n",
    "        author_book[author] += 1\n",
    "    else:\n",
    "        author_book[author] = 1\n",
    "\n",
    "for author, count in author_book.items():\n",
    "    print(f\"\\nauthor : \\n{author}:{count}\")\n"
   ]
  },
  {
   "cell_type": "raw",
   "id": "ee165fd4-ab5f-43e8-b309-d5996cc031b2",
   "metadata": {},
   "source": [
    "Problem: Restaurant Menu Analysis\n",
    "Task: You have a list of dishes served in a restaurant, where each dish is represented as a dictionary containing the dish name, price, and a list of ingredients. Write a Python program to perform the following tasks:\n",
    "\n",
    "1)Find the Most Expensive Dish: Determine which dish has the highest price.\n",
    "2)List All Vegetarian Dishes: Assume a dish is vegetarian if it does not contain 'meat' or 'fish' in its ingredients.\n",
    "3)Ingredient Frequency: Create a dictionary that maps each ingredient to the number of dishes it appears in.\n",
    "\n",
    "menu = [\n",
    "    {\"name\": \"Spaghetti Carbonara\", \"price\": 12, \"ingredients\": [\"pasta\", \"egg\", \"bacon\"]},\n",
    "    {\"name\": \"Margherita Pizza\", \"price\": 10, \"ingredients\": [\"dough\", \"tomato\", \"cheese\"]},\n",
    "    {\"name\": \"Salmon Salad\", \"price\": 15, \"ingredients\": [\"salmon\", \"lettuce\", \"dressing\"]},\n",
    "    {\"name\": \"Vegetable Stir Fry\", \"price\": 8, \"ingredients\": [\"broccoli\", \"carrot\", \"pepper\"]}\n",
    "]"
   ]
  },
  {
   "cell_type": "code",
   "execution_count": 6,
   "id": "f456ac61-8b40-4b3f-90a2-bebafd292bb5",
   "metadata": {},
   "outputs": [
    {
     "name": "stdout",
     "output_type": "stream",
     "text": [
      "[{'name': 'Spaghetti Carbonara', 'price': 12, 'ingredients': ['tomato', 'pasta', 'egg', 'bacon']}, {'name': 'Margherita Pizza', 'price': 10, 'ingredients': ['dough', 'tomato', 'cheese', 'meat']}, {'name': 'Salmon Salad', 'price': 15, 'ingredients': ['tomato', 'salmon', 'lettuce', 'dressing']}, {'name': 'Vegetable Stir Fry', 'price': 8, 'ingredients': ['tomato', 'broccoli', 'carrot', 'pepper']}]\n",
      "\n",
      "highest price dish is {'name': 'Salmon Salad', 'price': 15, 'ingredients': ['tomato', 'salmon', 'lettuce', 'dressing']}\n",
      "\n",
      "Veg dish is ['Spaghetti Carbonara', 'Salmon Salad', 'Vegetable Stir Fry']\n",
      "\n",
      "ingredient frequency is :  {'tomato': 4, 'pasta': 1, 'egg': 1, 'bacon': 1, 'dough': 1, 'cheese': 1, 'meat': 1, 'salmon': 1, 'lettuce': 1, 'dressing': 1, 'broccoli': 1, 'carrot': 1, 'pepper': 1}\n"
     ]
    }
   ],
   "source": [
    "menu = [\n",
    "    {\"name\": \"Spaghetti Carbonara\", \"price\": 12, \"ingredients\": [\"tomato\", \"pasta\", \"egg\", \"bacon\"]},\n",
    "    {\"name\": \"Margherita Pizza\", \"price\": 10, \"ingredients\": [\"dough\", \"tomato\", \"cheese\", \"meat\"]},\n",
    "    {\"name\": \"Salmon Salad\", \"price\": 15, \"ingredients\": [\"tomato\", \"salmon\", \"lettuce\", \"dressing\"]},\n",
    "    {\"name\": \"Vegetable Stir Fry\", \"price\": 8, \"ingredients\": [\"tomato\", \"broccoli\", \"carrot\", \"pepper\"]}\n",
    "]\n",
    "print(menu)\n",
    "# 1 task\n",
    "high_dish = menu[0]\n",
    "for dish in menu[1:]:\n",
    "    if dish[\"price\"] > high_dish[\"price\"]:\n",
    "        high_dish = dish\n",
    "\n",
    "print(\"\\nhighest price dish is\", high_dish)\n",
    "\n",
    "# 2 task\n",
    "veg_dish = []\n",
    "for dish in menu:\n",
    "    veg = True\n",
    "    for ingredient in dish[\"ingredients\"]:\n",
    "        if ingredient in [\"meat\", \"fish\"]:\n",
    "            veg = False\n",
    "            break\n",
    "    if veg:\n",
    "        veg_dish.append(dish[\"name\"])\n",
    "\n",
    "print(\"\\nVeg dish is\", veg_dish)\n",
    "\n",
    "# 3 task\n",
    "ingredient_frequency = {}\n",
    "\n",
    "for dish in menu:\n",
    "    for ingredient in dish[\"ingredients\"]:\n",
    "        if ingredient in ingredient_frequency:\n",
    "            ingredient_frequency[ingredient] += 1\n",
    "        else:\n",
    "            ingredient_frequency[ingredient] = 1\n",
    "\n",
    "print(\"\\ningredient frequency is : \", ingredient_frequency)\n"
   ]
  },
  {
   "cell_type": "code",
   "execution_count": null,
   "id": "e25bcb62-1c85-4056-bc20-eaa58204bca1",
   "metadata": {},
   "outputs": [],
   "source": []
  }
 ],
 "metadata": {
  "kernelspec": {
   "display_name": "Python 3 (ipykernel)",
   "language": "python",
   "name": "python3"
  },
  "language_info": {
   "codemirror_mode": {
    "name": "ipython",
    "version": 3
   },
   "file_extension": ".py",
   "mimetype": "text/x-python",
   "name": "python",
   "nbconvert_exporter": "python",
   "pygments_lexer": "ipython3",
   "version": "3.12.0"
  }
 },
 "nbformat": 4,
 "nbformat_minor": 5
}
