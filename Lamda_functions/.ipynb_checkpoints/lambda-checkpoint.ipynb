{
 "cells": [
  {
   "cell_type": "code",
   "execution_count": 1,
   "id": "ae4241d5-d65e-49d4-bd8f-0cf1e2d91bd4",
   "metadata": {},
   "outputs": [
    {
     "data": {
      "text/plain": [
       "9"
      ]
     },
     "execution_count": 1,
     "metadata": {},
     "output_type": "execute_result"
    }
   ],
   "source": [
    "def add(a,b):\n",
    "    result = a+b\n",
    "    return result\n",
    "add(4,5)"
   ]
  },
  {
   "cell_type": "code",
   "execution_count": 4,
   "id": "0d8bce07-2d28-4f43-90f0-bdaffd769aee",
   "metadata": {},
   "outputs": [
    {
     "data": {
      "text/plain": [
       "9"
      ]
     },
     "execution_count": 4,
     "metadata": {},
     "output_type": "execute_result"
    }
   ],
   "source": [
    "add = lambda a,b : a+b\n",
    "add(4,5)"
   ]
  },
  {
   "cell_type": "code",
   "execution_count": 11,
   "id": "e050db75-534a-4601-9401-d210e9501c40",
   "metadata": {},
   "outputs": [
    {
     "data": {
      "text/plain": [
       "9"
      ]
     },
     "execution_count": 11,
     "metadata": {},
     "output_type": "execute_result"
    }
   ],
   "source": [
    "add= lambda a : a+5\n",
    "add(4)"
   ]
  },
  {
   "cell_type": "code",
   "execution_count": 12,
   "id": "7b483a51-b71e-4a89-91f8-e48cba8d7e18",
   "metadata": {},
   "outputs": [
    {
     "data": {
      "text/plain": [
       "9"
      ]
     },
     "execution_count": 12,
     "metadata": {},
     "output_type": "execute_result"
    }
   ],
   "source": [
    "(lambda a,b: a+b)(4,5)"
   ]
  },
  {
   "cell_type": "code",
   "execution_count": 14,
   "id": "a3784de5-4db4-41b4-8b6a-9c15f07d9463",
   "metadata": {},
   "outputs": [
    {
     "name": "stdout",
     "output_type": "stream",
     "text": [
      "15\n"
     ]
    }
   ],
   "source": [
    "add = lambda a,b,c : a+b+c\n",
    "print(add(c=6,a=5,b=4))"
   ]
  },
  {
   "cell_type": "code",
   "execution_count": 15,
   "id": "aa066bea-2259-452c-adc8-9511eb814536",
   "metadata": {},
   "outputs": [
    {
     "data": {
      "text/plain": [
       "15"
      ]
     },
     "execution_count": 15,
     "metadata": {},
     "output_type": "execute_result"
    }
   ],
   "source": [
    "add = lambda a,b=5,c=6: a+b+c\n",
    "add(4)"
   ]
  },
  {
   "cell_type": "code",
   "execution_count": 16,
   "id": "e92d4829-591d-4acb-aaad-084f231a1164",
   "metadata": {},
   "outputs": [
    {
     "data": {
      "text/plain": [
       "55"
      ]
     },
     "execution_count": 16,
     "metadata": {},
     "output_type": "execute_result"
    }
   ],
   "source": [
    "add = lambda *args :sum(args)\n",
    "add(1,2,3,4,5,6,7,8,9,10)"
   ]
  },
  {
   "cell_type": "code",
   "execution_count": 18,
   "id": "80a7194e-5aca-4472-aa3d-26ee1c47254c",
   "metadata": {},
   "outputs": [
    {
     "data": {
      "text/plain": [
       "60"
      ]
     },
     "execution_count": 18,
     "metadata": {},
     "output_type": "execute_result"
    }
   ],
   "source": [
    "add = lambda x,fun:x+fun(x)\n",
    "add(20, lambda x: x+x)"
   ]
  },
  {
   "cell_type": "code",
   "execution_count": 20,
   "id": "e065db28-5535-46af-8885-95d47d1df9fc",
   "metadata": {},
   "outputs": [
    {
     "data": {
      "text/plain": [
       "'even'"
      ]
     },
     "execution_count": 20,
     "metadata": {},
     "output_type": "execute_result"
    }
   ],
   "source": [
    "(lambda x: (x % 2 and 'odd' or 'even'))(30)"
   ]
  },
  {
   "cell_type": "code",
   "execution_count": 45,
   "id": "487fe4ef-220b-4198-9865-a744538558cc",
   "metadata": {},
   "outputs": [
    {
     "data": {
      "text/plain": [
       "True"
      ]
     },
     "execution_count": 45,
     "metadata": {},
     "output_type": "execute_result"
    }
   ],
   "source": [
    "sub_string = lambda string:string in \"Welcome to Lambda function\"\n",
    "sub_string('Lambda')"
   ]
  },
  {
   "cell_type": "code",
   "execution_count": 1,
   "id": "b978eb33-af9f-41fc-9a25-2f988dcf26cf",
   "metadata": {},
   "outputs": [
    {
     "name": "stdout",
     "output_type": "stream",
     "text": [
      "[60, 70, 80, 90, 53, 64, 75, 86]\n"
     ]
    }
   ],
   "source": [
    "num = [10,20,30,40,50,60,70,80,90,15,2,53,64,75,86]\n",
    "grater = list(filter(lambda num: num>50,num))\n",
    "print(grater)"
   ]
  },
  {
   "cell_type": "code",
   "execution_count": 3,
   "id": "cc42cdcb-cd0e-42a5-8160-d37f0c7306f3",
   "metadata": {},
   "outputs": [
    {
     "name": "stdout",
     "output_type": "stream",
     "text": [
      "[20, 40, 60, 80, 64]\n"
     ]
    }
   ],
   "source": [
    "list1=[10,20,30,40,50,60,70,80,90,15,2,53,64,75,86]\n",
    "divide = list(filter(lambda x:(x%4 ==0 ),list1))\n",
    "print(divide)"
   ]
  },
  {
   "cell_type": "code",
   "execution_count": 7,
   "id": "8259e98b-1255-49b8-9369-1112de80c034",
   "metadata": {},
   "outputs": [
    {
     "name": "stdout",
     "output_type": "stream",
     "text": [
      "[20, 40, 60, 80, 100, 120, 140, 160, 180, 30, 4, 106, 128, 150, 172]\n"
     ]
    }
   ],
   "source": [
    "list1=[10,20,30,40,50,60,70,80,90,15,2,53,64,75,86]\n",
    "double = list(map(lambda x: x*2,list1))\n",
    "print(double)"
   ]
  },
  {
   "cell_type": "code",
   "execution_count": 2,
   "id": "7ef04c7c-f5cb-409c-a74a-1b83aa4fad3a",
   "metadata": {},
   "outputs": [
    {
     "data": {
      "text/plain": [
       "[8, 125, 512, 216, 64, 1000]"
      ]
     },
     "execution_count": 2,
     "metadata": {},
     "output_type": "execute_result"
    }
   ],
   "source": [
    "list1=[2,5,8,6,4,10]\n",
    "cube = map(lambda x:pow(x,3),list1)\n",
    "list(cube)"
   ]
  },
  {
   "cell_type": "code",
   "execution_count": 10,
   "id": "dd48ce05-429a-4510-bf41-560424c6bfa8",
   "metadata": {},
   "outputs": [
    {
     "name": "stdout",
     "output_type": "stream",
     "text": [
      "55\n"
     ]
    }
   ],
   "source": [
    "from functools import reduce\n",
    "list1=[1,2,3,4,5,6,7,8,9,10]\n",
    "sum = reduce((lambda x,y:x+y),list1)\n",
    "print(sum)"
   ]
  },
  {
   "cell_type": "code",
   "execution_count": 13,
   "id": "0ef16d4d-ae79-49dd-98b8-2b20bbc2bf7c",
   "metadata": {},
   "outputs": [
    {
     "data": {
      "text/plain": [
       "18"
      ]
     },
     "execution_count": 13,
     "metadata": {},
     "output_type": "execute_result"
    }
   ],
   "source": [
    "def quadratic(a,b,c,):\n",
    "    return lambda x : a*x**2+b*x+c\n",
    "f = quadratic(2,3,4)\n",
    "f(2)"
   ]
  },
  {
   "cell_type": "code",
   "execution_count": null,
   "id": "12cf816f-7dd1-4324-9416-a8ce81622cf6",
   "metadata": {},
   "outputs": [],
   "source": []
  }
 ],
 "metadata": {
  "kernelspec": {
   "display_name": "Python 3 (ipykernel)",
   "language": "python",
   "name": "python3"
  },
  "language_info": {
   "codemirror_mode": {
    "name": "ipython",
    "version": 3
   },
   "file_extension": ".py",
   "mimetype": "text/x-python",
   "name": "python",
   "nbconvert_exporter": "python",
   "pygments_lexer": "ipython3",
   "version": "3.12.0"
  }
 },
 "nbformat": 4,
 "nbformat_minor": 5
}
